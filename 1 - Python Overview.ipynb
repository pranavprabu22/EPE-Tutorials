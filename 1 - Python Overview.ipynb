{
 "cells": [
  {
   "cell_type": "markdown",
   "metadata": {},
   "source": [
    "# 1. Learning Python"
   ]
  },
  {
   "cell_type": "markdown",
   "metadata": {},
   "source": [
    "Before learning about Machine Learning, you need to know the basics of Python. This tutorial will encompass types of variables, casting, objects, methods, parameters, and more. This will help you understand the content when you move into the next stage for learning about Machine Learning."
   ]
  },
  {
   "cell_type": "markdown",
   "metadata": {},
   "source": [
    "## Jupyter Notebook"
   ]
  },
  {
   "cell_type": "markdown",
   "metadata": {},
   "source": [
    "Jupyter Notebook is a web application that is locally hosted to provide an environment for Python. Jupyter Notebooks use iPython for the coding language, and can be used for various subjects, like machine learning and others. The work is saved onto a notebook, or .ipynb file. Jupyter Notebook is great for organizing code and separating code to give a clean look."
   ]
  },
  {
   "cell_type": "markdown",
   "metadata": {},
   "source": [
    "## Variables"
   ]
  },
  {
   "cell_type": "markdown",
   "metadata": {},
   "source": [
    "Different from other languages, Python does not require variables to have an indication to what type each variable is. To make a variable, it is as simple as giving a name and assigning a value."
   ]
  },
  {
   "cell_type": "code",
   "execution_count": 1,
   "metadata": {},
   "outputs": [],
   "source": [
    "variable1 = 1"
   ]
  },
  {
   "cell_type": "markdown",
   "metadata": {},
   "source": [
    "The basic types of variables are integers, strings, booleans, floats, doubles, and chars."
   ]
  },
  {
   "cell_type": "code",
   "execution_count": 2,
   "metadata": {},
   "outputs": [],
   "source": [
    "integerVariable = 5\n",
    "stringVariable = \"Hello world\"\n",
    "booleanVariable = True\n",
    "floatVariable = 12.34\n",
    "charVariable = 'a'"
   ]
  },
  {
   "cell_type": "markdown",
   "metadata": {},
   "source": [
    "However, variables can also store other values, such as lists. A list is a collection of values that is stored in one variable. Lists can store any kind of variable into a list, and is not limited to one type of variable per list."
   ]
  },
  {
   "cell_type": "code",
   "execution_count": 3,
   "metadata": {},
   "outputs": [],
   "source": [
    "listExample = [\"Hello\", 5, True, 12.34, 'a']"
   ]
  },
  {
   "cell_type": "markdown",
   "metadata": {},
   "source": [
    "Lists can also store lists, making a two-dimensional list."
   ]
  },
  {
   "cell_type": "code",
   "execution_count": 4,
   "metadata": {},
   "outputs": [
    {
     "name": "stdout",
     "output_type": "stream",
     "text": [
      "[[1, 11, 111], [2, 22, 222], [3, 33, 333]]\n"
     ]
    }
   ],
   "source": [
    "list1 = [1,11,111]\n",
    "list2 = [2, 22, 222]\n",
    "list3 = [3, 33, 333]\n",
    "listTotal = [list1, list2, list3]\n",
    "print(listTotal)"
   ]
  },
  {
   "cell_type": "markdown",
   "metadata": {},
   "source": [
    "## Methods"
   ]
  },
  {
   "cell_type": "markdown",
   "metadata": {},
   "source": [
    "Methods are segments of code that do not trigger when the cells run. It can only be triggered when called upon. Methods are useful when having a repeating task, as you can use the method to simplify the length of the program. An example for the use of a method is shown below."
   ]
  },
  {
   "cell_type": "code",
   "execution_count": 14,
   "metadata": {},
   "outputs": [
    {
     "name": "stdout",
     "output_type": "stream",
     "text": [
      "3\n",
      "6\n",
      "9\n",
      "12\n",
      "3\n",
      "6\n",
      "9\n",
      "12\n"
     ]
    }
   ],
   "source": [
    "#Without Methods\n",
    "print(3*1)\n",
    "print(3*2)\n",
    "print(3*3)\n",
    "print(3*4)\n",
    "\n",
    "#With methods\n",
    "def timesThree(num):#This is how you declare a method. \"num\" in this case is a parameter.\n",
    "    return num*3\n",
    "print(timesThree(1))#To call on a method, type its name, and input any parameters\n",
    "print(timesThree(2))\n",
    "print(timesThree(3))\n",
    "print(timesThree(4))"
   ]
  },
  {
   "cell_type": "markdown",
   "metadata": {},
   "source": [
    "Methods are useful in machine learning, for example, when getting a visualization of each feature using MatPlotLib(learn about it below). Without methods, the code would be hundreds of lines long due to the large number of features. However, due to methods, that is cut short."
   ]
  },
  {
   "cell_type": "markdown",
   "metadata": {},
   "source": [
    "## Loops"
   ]
  },
  {
   "cell_type": "markdown",
   "metadata": {},
   "source": [
    "Loops are useful for cleaning up the code and making it much easier to do large quantities of similar commands. A loop iterates through a certain number of elements, whether it be the characters in a string, or counting from 1 to 10. Loops can be used in tandem with methods to further simplify code. The example below will continue from the example with methods to show the capability of loops."
   ]
  },
  {
   "cell_type": "code",
   "execution_count": 17,
   "metadata": {},
   "outputs": [
    {
     "name": "stdout",
     "output_type": "stream",
     "text": [
      "3\n",
      "6\n",
      "9\n",
      "12\n",
      "3\n",
      "6\n",
      "9\n",
      "12\n",
      "h\n",
      "e\n",
      "l\n",
      "l\n",
      "o\n",
      " \n",
      "w\n",
      "o\n",
      "r\n",
      "l\n",
      "d\n"
     ]
    }
   ],
   "source": [
    "#Without loops\n",
    "def timesThree(num):\n",
    "    return num*3\n",
    "print(timesThree(1))\n",
    "print(timesThree(2))\n",
    "print(timesThree(3))\n",
    "print(timesThree(4))\n",
    "\n",
    "#With loops\n",
    "def timesThree(num):\n",
    "    return num*3\n",
    "for i in range(1,5):#This is how you declare a for loop; this example iterates through a list of numbers, specifically 1-4 (5 is not included)\n",
    "    print(timesThree(i))\n",
    "    \n",
    "#You can also iterate through a string with a loop\n",
    "for t in \"hello world\":\n",
    "    print(t)"
   ]
  },
  {
   "cell_type": "markdown",
   "metadata": {},
   "source": [
    "## Packages"
   ]
  },
  {
   "cell_type": "markdown",
   "metadata": {},
   "source": [
    "Packages are important to learn, as it is not possible to code every function yourself. To ease programming, there are packages that have premade classes and methods for you to use. To import packages, use the code below."
   ]
  },
  {
   "cell_type": "code",
   "execution_count": 5,
   "metadata": {},
   "outputs": [],
   "source": [
    "#To import a package, type in \"import <package name>\"\n",
    "import h5py\n",
    "#You can also import a package and give it a name to use as an object.\n",
    "#By using the keyword \"as\", you designate the package to that denotation.\n",
    "import numpy as np"
   ]
  },
  {
   "cell_type": "markdown",
   "metadata": {},
   "source": [
    "### NumPy"
   ]
  },
  {
   "cell_type": "markdown",
   "metadata": {},
   "source": [
    "NumPy is a package that is used specifically to create multidimensional array objects to store data. It encompasses several functions that can be used in the domain of algebra and other/mathematical/scientic purposes. In this case, numpy arrays are used to store information on the constituents of the jets in the dataset."
   ]
  },
  {
   "cell_type": "code",
   "execution_count": 11,
   "metadata": {},
   "outputs": [
    {
     "name": "stdout",
     "output_type": "stream",
     "text": [
      "2\n",
      "(3, 2)\n",
      "6\n",
      "int64\n",
      "8\n"
     ]
    }
   ],
   "source": [
    "#To make a basic NumPy array, first import the package as an object\n",
    "import numpy as np\n",
    "\n",
    "#Next, make the array by using the function \"np.array\". \n",
    "#Within the parentheses, enter the values for which you want the array to store. \n",
    "numPyArray = np.array([[1,2],[3,4],[5,6]])\n",
    "\n",
    "#The NumPy package also has attributes that help you learn more about what you are working with.\n",
    "#Here are a couple examples below:\n",
    "print(numPyArray.ndim)#Gives dimensions of array\n",
    "print(numPyArray.shape)#Gives shape of array\n",
    "print(numPyArray.size)#Gives size of array\n",
    "print(numPyArray.dtype)#Gives type of array\n",
    "print(numPyArray.itemsize)#Gives size in bytes of each element in array\n",
    "\n",
    "#Here are some useful methods for NumPy arrays.\n",
    "numPyArray = np.array([1,2,3,4,5,6])\n",
    "numPyArray.reshape(3,2)#Reshapes the array to the specified dimensions\n",
    "numPyArray2 = np.arange(7)#Makes an array with the values from 0 to n-1, where n is the value inputted."
   ]
  },
  {
   "cell_type": "markdown",
   "metadata": {},
   "source": [
    "### H5Py"
   ]
  },
  {
   "cell_type": "markdown",
   "metadata": {},
   "source": [
    "H5Py is a package that is used specifically to store data in and open Hierarchical Data Format Version 5(HDF5) files. HDF5 files are perfect for large quantities of data, as the file compresses the data to a manageable size for the file to be transferred. There is versatility in what you want to do with the dataset using H5Py. For now, H5Py will be mainly used to open HDF5 files.\n",
    "To have the code below to work, download the dataset from this website: https://cernbox.cern.ch/index.php/s/AgzB93y3ac0yuId?path=%2Ffixed."
   ]
  },
  {
   "cell_type": "code",
   "execution_count": null,
   "metadata": {},
   "outputs": [],
   "source": [
    "#To use H5Py, first import the package.\n",
    "import h5py\n",
    "\n",
    "#To open an HDF5 file, use the function below:\n",
    "f = h5py.File('processed-pythia82-lhc13-all-pt1-50k-r1_h022_e0175_t220_nonu_truth.z', 'r')#Put your own file path in here.\n",
    "f.keys()#Shows all keys in the file\n",
    "treeArray = f['t_allpar_new'][()]#Retrieves the dataset in the file, and sets it to the variable \"treeArray\". \n",
    "                                 #The empty tuple indexing retrieves all values in the set.\n",
    "print(treeArray.dtype.names)#Prints out each column from the dataset."
   ]
  },
  {
   "cell_type": "markdown",
   "metadata": {},
   "source": [
    "### MatPlotLib"
   ]
  },
  {
   "cell_type": "markdown",
   "metadata": {},
   "source": [
    "MatPlotLib is package used to create the visualization of data in the form of graphs. Some examples of MatPlotLib being used in this tutorial will be the visualization of the ROC curve and the AUC curve. The use of MatPlotlib will come later in the tutorial when it is on the topic of training and validation of the model."
   ]
  },
  {
   "cell_type": "markdown",
   "metadata": {},
   "source": [
    "### Pandas"
   ]
  },
  {
   "cell_type": "markdown",
   "metadata": {},
   "source": [
    "Pandas is a great tool that can be used to manipulate data and reformat it easily. It works synonymously with NumPy, so it can cooperate with several of the functionalities of NumPy as well. Pandas can be used to open files as well as make datasets. An example of Pandas being used is shown below:"
   ]
  },
  {
   "cell_type": "code",
   "execution_count": 13,
   "metadata": {},
   "outputs": [
    {
     "name": "stdout",
     "output_type": "stream",
     "text": [
      "                       Name  Age     Sex\n",
      "0   Braund, Mr. Owen Harris   22    male\n",
      "1  Allen, Mr. William Henry   35    male\n",
      "2  Bonnell, Miss. Elizabeth   58  female\n"
     ]
    }
   ],
   "source": [
    "import pandas as pd #Import the package as an object \"pd\"\n",
    "\n",
    "df = pd.DataFrame({#The function used to build the set, called a DataFrame for Pandas\n",
    "    \"Name\": [\"Braund, Mr. Owen Harris\",#Column name is \"Name\"\n",
    "    \"Allen, Mr. William Henry\",\n",
    "    \"Bonnell, Miss. Elizabeth\"],\n",
    "    \"Age\": [22, 35, 58],#Column name is \"Age\"\n",
    "    \"Gender\": [\"male\", \"male\", \"female\"]}#Column name is \"Gender\"\n",
    ")\n",
    "\n",
    "print(df)\n",
    "\n",
    "#To open an HDF5 file in Pandas, use the function below:\n",
    "opened_set = pd.read_hdf('test.h5', key = 'table')#Opens the file in the format of a table. \n",
    "                                                  #Can open either a \".z\" or \".h5\" file."
   ]
  },
  {
   "cell_type": "markdown",
   "metadata": {},
   "source": [
    "An example of Pandas being used for machine learning is when collating all the features and labels together for training the model."
   ]
  },
  {
   "cell_type": "code",
   "execution_count": null,
   "metadata": {},
   "outputs": [],
   "source": [
    "import pandas as pd #Import the package as an object \"pd\"\n",
    "\n",
    "features = ['j_zlogz', 'j_c1_b0_mmdt', 'j_c1_b1_mmdt', 'j_c2_b1_mmdt', 'j_d2_b1_mmdt', 'j_d2_a1_b1_mmdt',\n",
    "            'j_m2_b1_mmdt', 'j_n2_b1_mmdt', 'j_mass_mmdt', 'j_multiplicity']\n",
    "labels = ['j_t']\n",
    "\n",
    "features_labels_df = pd.DataFrame(treeArray,columns=features+labels) #Combines the data from the columns of each\n",
    "                                                                     #feature and label into one set\n",
    "                                                                     #, isolating it from the other data.\n",
    "features_labels_df = features_labels_df.drop_duplicates() #Drops all duplicate values remaining in the set\n",
    "\n",
    "print(features_labels_df)"
   ]
  },
  {
   "cell_type": "markdown",
   "metadata": {},
   "source": [
    "### Keras and Tensorflow"
   ]
  },
  {
   "cell_type": "markdown",
   "metadata": {},
   "source": [
    "Keras and Tensorflow are packages used specifically for machine learning. The packages are mainly geared towards bulding models to house all the layers, and towards training the model. However, similar to MatPlotLib, the use of these packages will be covered in the next tutorial."
   ]
  }
 ],
 "metadata": {
  "kernelspec": {
   "display_name": "Python 3",
   "language": "python",
   "name": "python3"
  },
  "language_info": {
   "codemirror_mode": {
    "name": "ipython",
    "version": 3
   },
   "file_extension": ".py",
   "mimetype": "text/x-python",
   "name": "python",
   "nbconvert_exporter": "python",
   "pygments_lexer": "ipython3",
   "version": "3.8.3"
  }
 },
 "nbformat": 4,
 "nbformat_minor": 4
}
